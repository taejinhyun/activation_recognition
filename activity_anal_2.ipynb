{
 "cells": [
  {
   "cell_type": "code",
   "execution_count": 1,
   "metadata": {
    "collapsed": true
   },
   "outputs": [],
   "source": [
    "import pandas as pd\n",
    "import numpy as np\n",
    "import matplotlib.pyplot as plt"
   ]
  },
  {
   "cell_type": "code",
   "execution_count": 2,
   "metadata": {
    "collapsed": true
   },
   "outputs": [],
   "source": [
    "lying_df=pd.read_csv('눕기.csv',engine='python')"
   ]
  },
  {
   "cell_type": "code",
   "execution_count": 3,
   "metadata": {
    "collapsed": true
   },
   "outputs": [],
   "source": [
    "working_df=pd.read_csv('걷기.csv',engine='python')"
   ]
  },
  {
   "cell_type": "code",
   "execution_count": 4,
   "metadata": {
    "collapsed": true
   },
   "outputs": [],
   "source": [
    "standing_df=pd.read_csv('서기.csv',engine='python')"
   ]
  },
  {
   "cell_type": "code",
   "execution_count": 5,
   "metadata": {
    "collapsed": true
   },
   "outputs": [],
   "source": [
    "sitting_df=pd.read_csv('앉기.csv',engine='python')"
   ]
  },
  {
   "cell_type": "code",
   "execution_count": 6,
   "metadata": {
    "collapsed": true
   },
   "outputs": [],
   "source": [
    "facedown_df=pd.read_csv('엎드려눕기.csv',engine='python')"
   ]
  },
  {
   "cell_type": "code",
   "execution_count": 7,
   "metadata": {
    "collapsed": true
   },
   "outputs": [],
   "source": [
    "r_lying_df=pd.read_csv('오른쪽눕기.csv',engine='python')"
   ]
  },
  {
   "cell_type": "code",
   "execution_count": 8,
   "metadata": {
    "collapsed": true
   },
   "outputs": [],
   "source": [
    "l_lying_df=pd.read_csv('왼쪽눕기.csv',engine='python')"
   ]
  },
  {
   "cell_type": "code",
   "execution_count": 9,
   "metadata": {
    "collapsed": true
   },
   "outputs": [],
   "source": [
    "lying_df=pd.concat([lying_df,facedown_df,r_lying_df,l_lying_df],axis=0)"
   ]
  },
  {
   "cell_type": "code",
   "execution_count": 10,
   "metadata": {},
   "outputs": [
    {
     "data": {
      "text/plain": [
       "(20472, 6)"
      ]
     },
     "execution_count": 10,
     "metadata": {},
     "output_type": "execute_result"
    }
   ],
   "source": [
    "lying_df.shape"
   ]
  },
  {
   "cell_type": "code",
   "execution_count": 11,
   "metadata": {
    "collapsed": true
   },
   "outputs": [],
   "source": [
    "def processing_df(df):\n",
    "    tmp_df=df.drop(['epoch (ms)','time (18:00)'],axis=1)\n",
    "    tmp_df['elapsed (s)']=round(tmp_df['elapsed (s)'],0)\n",
    "    tmp_df=tmp_df.groupby('elapsed (s)').mean()\n",
    "    tmp_df=tmp_df.reset_index()\n",
    "    \n",
    "    proc_df=tmp_df.drop(['elapsed (s)'],axis=1)\n",
    "    proc_df['elapsed (s)']=tmp_df['elapsed (s)']\n",
    "    return proc_df"
   ]
  },
  {
   "cell_type": "code",
   "execution_count": 12,
   "metadata": {
    "collapsed": true
   },
   "outputs": [],
   "source": [
    "def add_action(df, action):\n",
    "    tmp_df=processing_df(df)\n",
    "    tmp_df['action']=[action]*tmp_df.shape[0]\n",
    "    return tmp_df"
   ]
  },
  {
   "cell_type": "code",
   "execution_count": 13,
   "metadata": {
    "collapsed": true
   },
   "outputs": [],
   "source": [
    "action_df=pd.concat([add_action(lying_df,'lying'),add_action(standing_df,'standing'),add_action(sitting_df,'sitting')],axis=0)"
   ]
  },
  {
   "cell_type": "markdown",
   "metadata": {},
   "source": [
    "action_df=pd.concat([add_action(lying_df,'lying'),add_action(standing_df,'standing')],axis=0)\n"
   ]
  },
  {
   "cell_type": "code",
   "execution_count": 14,
   "metadata": {},
   "outputs": [
    {
     "data": {
      "text/html": [
       "<div>\n",
       "<style>\n",
       "    .dataframe thead tr:only-child th {\n",
       "        text-align: right;\n",
       "    }\n",
       "\n",
       "    .dataframe thead th {\n",
       "        text-align: left;\n",
       "    }\n",
       "\n",
       "    .dataframe tbody tr th {\n",
       "        vertical-align: top;\n",
       "    }\n",
       "</style>\n",
       "<table border=\"1\" class=\"dataframe\">\n",
       "  <thead>\n",
       "    <tr style=\"text-align: right;\">\n",
       "      <th></th>\n",
       "      <th>x-axis (deg/s)</th>\n",
       "      <th>y-axis (deg/s)</th>\n",
       "      <th>z-axis (deg/s)</th>\n",
       "      <th>elapsed (s)</th>\n",
       "      <th>action</th>\n",
       "    </tr>\n",
       "  </thead>\n",
       "  <tbody>\n",
       "    <tr>\n",
       "      <th>0</th>\n",
       "      <td>-1.311967</td>\n",
       "      <td>-0.005083</td>\n",
       "      <td>0.219617</td>\n",
       "      <td>0.0</td>\n",
       "      <td>lying</td>\n",
       "    </tr>\n",
       "    <tr>\n",
       "      <th>1</th>\n",
       "      <td>-1.321135</td>\n",
       "      <td>-0.038135</td>\n",
       "      <td>0.374865</td>\n",
       "      <td>1.0</td>\n",
       "      <td>lying</td>\n",
       "    </tr>\n",
       "    <tr>\n",
       "      <th>2</th>\n",
       "      <td>-1.076688</td>\n",
       "      <td>0.103573</td>\n",
       "      <td>0.283385</td>\n",
       "      <td>2.0</td>\n",
       "      <td>lying</td>\n",
       "    </tr>\n",
       "    <tr>\n",
       "      <th>3</th>\n",
       "      <td>-1.241740</td>\n",
       "      <td>-0.063542</td>\n",
       "      <td>0.351385</td>\n",
       "      <td>3.0</td>\n",
       "      <td>lying</td>\n",
       "    </tr>\n",
       "    <tr>\n",
       "      <th>4</th>\n",
       "      <td>-1.291759</td>\n",
       "      <td>-0.001139</td>\n",
       "      <td>0.339435</td>\n",
       "      <td>4.0</td>\n",
       "      <td>lying</td>\n",
       "    </tr>\n",
       "  </tbody>\n",
       "</table>\n",
       "</div>"
      ],
      "text/plain": [
       "   x-axis (deg/s)  y-axis (deg/s)  z-axis (deg/s)  elapsed (s) action\n",
       "0       -1.311967       -0.005083        0.219617          0.0  lying\n",
       "1       -1.321135       -0.038135        0.374865          1.0  lying\n",
       "2       -1.076688        0.103573        0.283385          2.0  lying\n",
       "3       -1.241740       -0.063542        0.351385          3.0  lying\n",
       "4       -1.291759       -0.001139        0.339435          4.0  lying"
      ]
     },
     "execution_count": 14,
     "metadata": {},
     "output_type": "execute_result"
    }
   ],
   "source": [
    "action_df.head()"
   ]
  },
  {
   "cell_type": "code",
   "execution_count": 502,
   "metadata": {
    "collapsed": true
   },
   "outputs": [],
   "source": [
    "from sklearn.model_selection import train_test_split"
   ]
  },
  {
   "cell_type": "code",
   "execution_count": 503,
   "metadata": {
    "collapsed": true
   },
   "outputs": [],
   "source": [
    "x=action_df.drop(['action'],axis=1)"
   ]
  },
  {
   "cell_type": "code",
   "execution_count": 504,
   "metadata": {},
   "outputs": [
    {
     "data": {
      "text/html": [
       "<div>\n",
       "<style>\n",
       "    .dataframe thead tr:only-child th {\n",
       "        text-align: right;\n",
       "    }\n",
       "\n",
       "    .dataframe thead th {\n",
       "        text-align: left;\n",
       "    }\n",
       "\n",
       "    .dataframe tbody tr th {\n",
       "        vertical-align: top;\n",
       "    }\n",
       "</style>\n",
       "<table border=\"1\" class=\"dataframe\">\n",
       "  <thead>\n",
       "    <tr style=\"text-align: right;\">\n",
       "      <th></th>\n",
       "      <th>x-axis (deg/s)</th>\n",
       "      <th>y-axis (deg/s)</th>\n",
       "      <th>z-axis (deg/s)</th>\n",
       "      <th>elapsed (s)</th>\n",
       "    </tr>\n",
       "  </thead>\n",
       "  <tbody>\n",
       "    <tr>\n",
       "      <th>0</th>\n",
       "      <td>-1.311967</td>\n",
       "      <td>-0.005083</td>\n",
       "      <td>0.219617</td>\n",
       "      <td>0.0</td>\n",
       "    </tr>\n",
       "    <tr>\n",
       "      <th>1</th>\n",
       "      <td>-1.321135</td>\n",
       "      <td>-0.038135</td>\n",
       "      <td>0.374865</td>\n",
       "      <td>1.0</td>\n",
       "    </tr>\n",
       "    <tr>\n",
       "      <th>2</th>\n",
       "      <td>-1.076688</td>\n",
       "      <td>0.103573</td>\n",
       "      <td>0.283385</td>\n",
       "      <td>2.0</td>\n",
       "    </tr>\n",
       "    <tr>\n",
       "      <th>3</th>\n",
       "      <td>-1.241740</td>\n",
       "      <td>-0.063542</td>\n",
       "      <td>0.351385</td>\n",
       "      <td>3.0</td>\n",
       "    </tr>\n",
       "    <tr>\n",
       "      <th>4</th>\n",
       "      <td>-1.291759</td>\n",
       "      <td>-0.001139</td>\n",
       "      <td>0.339435</td>\n",
       "      <td>4.0</td>\n",
       "    </tr>\n",
       "  </tbody>\n",
       "</table>\n",
       "</div>"
      ],
      "text/plain": [
       "   x-axis (deg/s)  y-axis (deg/s)  z-axis (deg/s)  elapsed (s)\n",
       "0       -1.311967       -0.005083        0.219617          0.0\n",
       "1       -1.321135       -0.038135        0.374865          1.0\n",
       "2       -1.076688        0.103573        0.283385          2.0\n",
       "3       -1.241740       -0.063542        0.351385          3.0\n",
       "4       -1.291759       -0.001139        0.339435          4.0"
      ]
     },
     "execution_count": 504,
     "metadata": {},
     "output_type": "execute_result"
    }
   ],
   "source": [
    "x.head()"
   ]
  },
  {
   "cell_type": "code",
   "execution_count": 505,
   "metadata": {},
   "outputs": [],
   "source": [
    "x['mean']=x.mean(axis=1)\n",
    "x['var']=x.var(axis=1)\n",
    "x['max']=x.max(axis=1)\n",
    "x['min']=x.min(axis=1)\n",
    "x['kurtosis']=x.kurtosis(axis=1)\n",
    "x['skewness']=x.skew(axis=1)"
   ]
  },
  {
   "cell_type": "code",
   "execution_count": 506,
   "metadata": {},
   "outputs": [
    {
     "data": {
      "text/html": [
       "<div>\n",
       "<style>\n",
       "    .dataframe thead tr:only-child th {\n",
       "        text-align: right;\n",
       "    }\n",
       "\n",
       "    .dataframe thead th {\n",
       "        text-align: left;\n",
       "    }\n",
       "\n",
       "    .dataframe tbody tr th {\n",
       "        vertical-align: top;\n",
       "    }\n",
       "</style>\n",
       "<table border=\"1\" class=\"dataframe\">\n",
       "  <thead>\n",
       "    <tr style=\"text-align: right;\">\n",
       "      <th></th>\n",
       "      <th>x-axis (deg/s)</th>\n",
       "      <th>y-axis (deg/s)</th>\n",
       "      <th>z-axis (deg/s)</th>\n",
       "      <th>elapsed (s)</th>\n",
       "      <th>mean</th>\n",
       "      <th>var</th>\n",
       "      <th>max</th>\n",
       "      <th>min</th>\n",
       "      <th>kurtosis</th>\n",
       "      <th>skewness</th>\n",
       "    </tr>\n",
       "  </thead>\n",
       "  <tbody>\n",
       "    <tr>\n",
       "      <th>0</th>\n",
       "      <td>-1.311967</td>\n",
       "      <td>-0.005083</td>\n",
       "      <td>0.219617</td>\n",
       "      <td>0.0</td>\n",
       "      <td>-0.274358</td>\n",
       "      <td>0.367106</td>\n",
       "      <td>0.367106</td>\n",
       "      <td>-1.311967</td>\n",
       "      <td>-0.532320</td>\n",
       "      <td>-0.884609</td>\n",
       "    </tr>\n",
       "    <tr>\n",
       "      <th>1</th>\n",
       "      <td>-1.321135</td>\n",
       "      <td>-0.038135</td>\n",
       "      <td>0.374865</td>\n",
       "      <td>1.0</td>\n",
       "      <td>0.003898</td>\n",
       "      <td>0.721829</td>\n",
       "      <td>1.000000</td>\n",
       "      <td>-1.321135</td>\n",
       "      <td>-0.903406</td>\n",
       "      <td>-0.357823</td>\n",
       "    </tr>\n",
       "    <tr>\n",
       "      <th>2</th>\n",
       "      <td>-1.076688</td>\n",
       "      <td>0.103573</td>\n",
       "      <td>0.283385</td>\n",
       "      <td>2.0</td>\n",
       "      <td>0.327568</td>\n",
       "      <td>1.205272</td>\n",
       "      <td>2.000000</td>\n",
       "      <td>-1.076688</td>\n",
       "      <td>-1.229082</td>\n",
       "      <td>0.196073</td>\n",
       "    </tr>\n",
       "    <tr>\n",
       "      <th>3</th>\n",
       "      <td>-1.241740</td>\n",
       "      <td>-0.063542</td>\n",
       "      <td>0.351385</td>\n",
       "      <td>3.0</td>\n",
       "      <td>0.511526</td>\n",
       "      <td>2.405698</td>\n",
       "      <td>3.000000</td>\n",
       "      <td>-1.241740</td>\n",
       "      <td>-1.740923</td>\n",
       "      <td>0.295851</td>\n",
       "    </tr>\n",
       "    <tr>\n",
       "      <th>4</th>\n",
       "      <td>-1.291759</td>\n",
       "      <td>-0.001139</td>\n",
       "      <td>0.339435</td>\n",
       "      <td>4.0</td>\n",
       "      <td>0.761634</td>\n",
       "      <td>3.865878</td>\n",
       "      <td>4.000000</td>\n",
       "      <td>-1.291759</td>\n",
       "      <td>-1.987493</td>\n",
       "      <td>0.393785</td>\n",
       "    </tr>\n",
       "  </tbody>\n",
       "</table>\n",
       "</div>"
      ],
      "text/plain": [
       "   x-axis (deg/s)  y-axis (deg/s)  z-axis (deg/s)  elapsed (s)      mean  \\\n",
       "0       -1.311967       -0.005083        0.219617          0.0 -0.274358   \n",
       "1       -1.321135       -0.038135        0.374865          1.0  0.003898   \n",
       "2       -1.076688        0.103573        0.283385          2.0  0.327568   \n",
       "3       -1.241740       -0.063542        0.351385          3.0  0.511526   \n",
       "4       -1.291759       -0.001139        0.339435          4.0  0.761634   \n",
       "\n",
       "        var       max       min  kurtosis  skewness  \n",
       "0  0.367106  0.367106 -1.311967 -0.532320 -0.884609  \n",
       "1  0.721829  1.000000 -1.321135 -0.903406 -0.357823  \n",
       "2  1.205272  2.000000 -1.076688 -1.229082  0.196073  \n",
       "3  2.405698  3.000000 -1.241740 -1.740923  0.295851  \n",
       "4  3.865878  4.000000 -1.291759 -1.987493  0.393785  "
      ]
     },
     "execution_count": 506,
     "metadata": {},
     "output_type": "execute_result"
    }
   ],
   "source": [
    "x.head()"
   ]
  },
  {
   "cell_type": "code",
   "execution_count": 779,
   "metadata": {},
   "outputs": [],
   "source": [
    "X_train,X_test,y_train,y_test=train_test_split(x,action_df.action,stratify=action_df.action,random_state=1)"
   ]
  },
  {
   "cell_type": "markdown",
   "metadata": {},
   "source": [
    "## SVC"
   ]
  },
  {
   "cell_type": "code",
   "execution_count": 780,
   "metadata": {
    "collapsed": true
   },
   "outputs": [],
   "source": [
    "from sklearn.svm import SVC\n",
    "from sklearn.preprocessing import StandardScaler"
   ]
  },
  {
   "cell_type": "code",
   "execution_count": 781,
   "metadata": {
    "collapsed": true
   },
   "outputs": [],
   "source": [
    "std_scaler=StandardScaler()\n",
    "std_scaler.fit(X_train)\n",
    "std_scaler.fit(X_train)\n",
    "std_X_train=std_scaler.transform(X_train)\n",
    "std_X_test=std_scaler.transform(X_test)"
   ]
  },
  {
   "cell_type": "code",
   "execution_count": 782,
   "metadata": {
    "collapsed": true
   },
   "outputs": [],
   "source": [
    "svc=SVC()"
   ]
  },
  {
   "cell_type": "code",
   "execution_count": 783,
   "metadata": {},
   "outputs": [
    {
     "data": {
      "text/plain": [
       "SVC(C=1.0, cache_size=200, class_weight=None, coef0=0.0,\n",
       "  decision_function_shape='ovr', degree=3, gamma='auto', kernel='rbf',\n",
       "  max_iter=-1, probability=False, random_state=None, shrinking=True,\n",
       "  tol=0.001, verbose=False)"
      ]
     },
     "execution_count": 783,
     "metadata": {},
     "output_type": "execute_result"
    }
   ],
   "source": [
    "svc.fit(X_train,y_train)"
   ]
  },
  {
   "cell_type": "code",
   "execution_count": 784,
   "metadata": {},
   "outputs": [
    {
     "data": {
      "text/plain": [
       "0.20382165605095542"
      ]
     },
     "execution_count": 784,
     "metadata": {},
     "output_type": "execute_result"
    }
   ],
   "source": [
    "svc.score(X_test,y_test)"
   ]
  },
  {
   "cell_type": "markdown",
   "metadata": {},
   "source": [
    "### standard preproc"
   ]
  },
  {
   "cell_type": "code",
   "execution_count": 785,
   "metadata": {},
   "outputs": [
    {
     "data": {
      "text/plain": [
       "SVC(C=1.0, cache_size=200, class_weight=None, coef0=0.0,\n",
       "  decision_function_shape='ovr', degree=3, gamma='auto', kernel='rbf',\n",
       "  max_iter=-1, probability=False, random_state=None, shrinking=True,\n",
       "  tol=0.001, verbose=False)"
      ]
     },
     "execution_count": 785,
     "metadata": {},
     "output_type": "execute_result"
    }
   ],
   "source": [
    "svc.fit(std_X_train,y_train)"
   ]
  },
  {
   "cell_type": "code",
   "execution_count": 786,
   "metadata": {},
   "outputs": [
    {
     "data": {
      "text/plain": [
       "0.40127388535031849"
      ]
     },
     "execution_count": 786,
     "metadata": {},
     "output_type": "execute_result"
    }
   ],
   "source": [
    "svc.score(std_X_test,y_test)"
   ]
  },
  {
   "cell_type": "markdown",
   "metadata": {},
   "source": [
    "## MLPClassifier (solver = lbfgs)"
   ]
  },
  {
   "cell_type": "code",
   "execution_count": 787,
   "metadata": {
    "collapsed": true
   },
   "outputs": [],
   "source": [
    "from sklearn.neural_network import MLPClassifier"
   ]
  },
  {
   "cell_type": "code",
   "execution_count": 788,
   "metadata": {
    "collapsed": true
   },
   "outputs": [],
   "source": [
    "mlp=MLPClassifier(solver='lbfgs',random_state=0).fit(X_train, y_train)"
   ]
  },
  {
   "cell_type": "code",
   "execution_count": 789,
   "metadata": {},
   "outputs": [
    {
     "data": {
      "text/plain": [
       "0.28025477707006369"
      ]
     },
     "execution_count": 789,
     "metadata": {},
     "output_type": "execute_result"
    }
   ],
   "source": [
    "mlp.score(X_test,y_test)"
   ]
  },
  {
   "cell_type": "markdown",
   "metadata": {},
   "source": [
    "### standard preproc"
   ]
  },
  {
   "cell_type": "code",
   "execution_count": 823,
   "metadata": {
    "collapsed": true
   },
   "outputs": [],
   "source": [
    "from sklearn.pipeline import Pipeline"
   ]
  },
  {
   "cell_type": "code",
   "execution_count": 824,
   "metadata": {},
   "outputs": [],
   "source": [
    "pipe=Pipeline([('scaler',StandardScaler()),('mlp',MLPClassifier(solver='lbfgs',hidden_layer_sizes=(100,),random_state=0))])"
   ]
  },
  {
   "cell_type": "code",
   "execution_count": 825,
   "metadata": {},
   "outputs": [
    {
     "data": {
      "text/plain": [
       "Pipeline(memory=None,\n",
       "     steps=[('scaler', StandardScaler(copy=True, with_mean=True, with_std=True)), ('mlp', MLPClassifier(activation='relu', alpha=0.0001, batch_size='auto', beta_1=0.9,\n",
       "       beta_2=0.999, early_stopping=False, epsilon=1e-08,\n",
       "       hidden_layer_sizes=(100,), learning_rate='constant',\n",
       "       learning_rat...      solver='lbfgs', tol=0.0001, validation_fraction=0.1, verbose=False,\n",
       "       warm_start=False))])"
      ]
     },
     "execution_count": 825,
     "metadata": {},
     "output_type": "execute_result"
    }
   ],
   "source": [
    "pipe.fit(std_X_train,y_train)"
   ]
  },
  {
   "cell_type": "code",
   "execution_count": 826,
   "metadata": {},
   "outputs": [
    {
     "data": {
      "text/plain": [
       "0.5859872611464968"
      ]
     },
     "execution_count": 826,
     "metadata": {},
     "output_type": "execute_result"
    }
   ],
   "source": [
    "pipe.score(std_X_test,y_test)"
   ]
  },
  {
   "cell_type": "code",
   "execution_count": null,
   "metadata": {
    "collapsed": true
   },
   "outputs": [],
   "source": []
  },
  {
   "cell_type": "code",
   "execution_count": null,
   "metadata": {
    "collapsed": true
   },
   "outputs": [],
   "source": []
  },
  {
   "cell_type": "code",
   "execution_count": null,
   "metadata": {
    "collapsed": true
   },
   "outputs": [],
   "source": []
  },
  {
   "cell_type": "code",
   "execution_count": null,
   "metadata": {
    "collapsed": true
   },
   "outputs": [],
   "source": []
  },
  {
   "cell_type": "code",
   "execution_count": null,
   "metadata": {
    "collapsed": true
   },
   "outputs": [],
   "source": []
  }
 ],
 "metadata": {
  "kernelspec": {
   "display_name": "Python 3",
   "language": "python",
   "name": "python3"
  },
  "language_info": {
   "codemirror_mode": {
    "name": "ipython",
    "version": 3
   },
   "file_extension": ".py",
   "mimetype": "text/x-python",
   "name": "python",
   "nbconvert_exporter": "python",
   "pygments_lexer": "ipython3",
   "version": "3.6.3"
  }
 },
 "nbformat": 4,
 "nbformat_minor": 2
}
